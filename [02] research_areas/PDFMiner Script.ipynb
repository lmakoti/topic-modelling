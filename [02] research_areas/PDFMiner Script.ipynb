{
 "cells": [
  {
   "cell_type": "code",
   "execution_count": null,
   "id": "8ba04f52",
   "metadata": {},
   "outputs": [],
   "source": [
    "%pip install pdfminer.six"
   ]
  },
  {
   "cell_type": "code",
   "execution_count": 8,
   "id": "9cf7b550",
   "metadata": {},
   "outputs": [
    {
     "name": "stdout",
     "output_type": "stream",
     "text": [
      "Text extraction complete. Check the output file.\n"
     ]
    }
   ],
   "source": [
    "# Import necessary classes from pdfminer\n",
    "from pdfminer.high_level import extract_text\n",
    "\n",
    "def extract_text_from_pdf(pdf_file_path):\n",
    "    \"\"\"\n",
    "    Function to extract text from a given PDF file.\n",
    "    :param pdf_file_path: Path to the PDF file to be processed.\n",
    "    :return: Extracted text as a string.\n",
    "    \"\"\"\n",
    "    # Using extract_text to extract text from the PDF\n",
    "    text = extract_text(pdf_file_path)\n",
    "    return text\n",
    "\n",
    "def save_text_to_file(text, output_file_path):\n",
    "    \"\"\"\n",
    "    Function to save the extracted text to a text file.\n",
    "    :param text: Text to save.\n",
    "    :param output_file_path: Path where the text file will be saved.\n",
    "    \"\"\"\n",
    "    with open(output_file_path, 'w', encoding='utf-8') as f:\n",
    "        f.write(text)\n",
    "\n",
    "# Path to the PDF file\n",
    "pdf_path = 'input.pdf'  # Modify this with the path to your PDF file\n",
    "# Path to the output text file\n",
    "output_path = 'output.txt'  # Modify this with your desired output file path\n",
    "\n",
    "# Extract text\n",
    "extracted_text = extract_text_from_pdf(pdf_path)\n",
    "# Save the extracted text to a file\n",
    "save_text_to_file(extracted_text, output_path)\n",
    "\n",
    "print(\"Text extraction complete. Check the output file.\")\n"
   ]
  }
 ],
 "metadata": {
  "kernelspec": {
   "display_name": "Python 3 (ipykernel)",
   "language": "python",
   "name": "python3"
  },
  "language_info": {
   "codemirror_mode": {
    "name": "ipython",
    "version": 3
   },
   "file_extension": ".py",
   "mimetype": "text/x-python",
   "name": "python",
   "nbconvert_exporter": "python",
   "pygments_lexer": "ipython3",
   "version": "3.11.4"
  }
 },
 "nbformat": 4,
 "nbformat_minor": 5
}
